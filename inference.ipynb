{
 "cells": [
  {
   "cell_type": "code",
   "execution_count": 1,
   "metadata": {},
   "outputs": [],
   "source": [
    "import os\n",
    "import gym\n",
    "import json\n",
    "import copy\n",
    "import time\n",
    "import numpy as np \n",
    "import itertools"
   ]
  },
  {
   "cell_type": "code",
   "execution_count": 2,
   "metadata": {},
   "outputs": [
    {
     "data": {
      "text/plain": [
       "(array([-1.2 , -0.07], dtype=float32), array([0.6 , 0.07], dtype=float32), 2)"
      ]
     },
     "execution_count": 2,
     "metadata": {},
     "output_type": "execute_result"
    }
   ],
   "source": [
    "# env = gym.make(\"MountainCar-v0\")\n",
    "env = gym.make(\"MountainCar-v0\")\n",
    "low, high = env.observation_space.low, env.observation_space.high\n",
    "low, high, env.observation_space.shape[0]"
   ]
  },
  {
   "cell_type": "code",
   "execution_count": 3,
   "metadata": {},
   "outputs": [
    {
     "data": {
      "text/plain": [
       "Discrete(3)"
      ]
     },
     "execution_count": 3,
     "metadata": {},
     "output_type": "execute_result"
    }
   ],
   "source": [
    "env.action_space"
   ]
  },
  {
   "cell_type": "code",
   "execution_count": 4,
   "metadata": {},
   "outputs": [],
   "source": [
    "sample_size, sample_dim = int(5e3), int(env.observation_space.shape[0])\n"
   ]
  },
  {
   "cell_type": "code",
   "execution_count": 5,
   "metadata": {},
   "outputs": [
    {
     "data": {
      "text/plain": [
       "(288, 2)"
      ]
     },
     "execution_count": 5,
     "metadata": {},
     "output_type": "execute_result"
    }
   ],
   "source": [
    "# h-net parameter \n",
    "N_h0, N_h1 = 20, 20\n",
    "N_h = N_h0 * N_h1 \n",
    "\n",
    "cluster_centers0 = np.arange(low[0], high[0] + 1e-3, (high[0] - low[0] - 1e-3) / float(N_h0 - 1))\n",
    "cluster_centers1 = np.arange(low[1], high[1] + 1e-3, (high[1] - low[1] - 1e-3) / float(N_h1 - 1))\n",
    "h_net = np.array(list(itertools.product(cluster_centers0, cluster_centers1)))\n",
    "\n",
    "# centers_to_delete = np.loadtxt('centers2delete_40_50_new.csv', delimiter=',')\n",
    "centers_to_delete = np.loadtxt('centers2delete_20_20_new.csv', delimiter=',')\n",
    "for center in centers_to_delete: \n",
    "    for index, c in enumerate(h_net):\n",
    "        if np.all(c == center):\n",
    "            break\n",
    "#     print (index, center, h_net[index])\n",
    "    h_net = np.delete(h_net, index, 0)\n",
    "h_net.shape"
   ]
  },
  {
   "cell_type": "code",
   "execution_count": 6,
   "metadata": {},
   "outputs": [],
   "source": [
    "scale = (high[0] - low[0]) / (high[1] - low[1])\n",
    "\n",
    "def norm(x, scale = scale):\n",
    "    assert x.shape == (sample_dim,), x.shape\n",
    "    return np.sqrt(x[0]**2 + (scale * x[1])**2)"
   ]
  },
  {
   "cell_type": "code",
   "execution_count": 7,
   "metadata": {},
   "outputs": [],
   "source": [
    "## Nearest Neighbor Regression\n",
    "def Gaussian_kernel(x):\n",
    "    return np.exp(- x**2 / 2.)\n",
    "\n",
    "def NNR(obs, ac, Q, global_close_neighbors_tracker, mode = 'fr-knn'):\n",
    "    rst = 0.\n",
    "    if model == 'fr-knn' or 'kernel-reg':\n",
    "        close_centers = []\n",
    "        if tuple(obs) in global_close_neighbors_tracker:\n",
    "            close_centers = global_close_neighbors_tracker[tuple(obs)]\n",
    "        else:\n",
    "            for center in h_net: \n",
    "                distance = norm(center - obs)\n",
    "                if distance < h:\n",
    "                    close_centers.append(center)\n",
    "            global_close_neighbors_tracker[tuple(obs)] = close_centers\n",
    "        num_close_centers = len(close_centers)\n",
    "        print (\"num_close_centers: {}\".format(num_close_centers))\n",
    "    else:\n",
    "        assert True, 'mode = {} not implemented'.format(mode)\n",
    "        \n",
    "    if model == 'kernel-reg':\n",
    "        denom = 0.\n",
    "        for center in close_centers:\n",
    "            distance = norm(center - obs)\n",
    "            denom += Gaussian_kernel(distance / h)\n",
    "    else:\n",
    "        denom = None\n",
    "        \n",
    "    if model == 'fr-knn':\n",
    "        for center in close_centers:\n",
    "            center_ac_pair = tuple(np.concatenate([center, [float(ac)]]))\n",
    "            rst += Q[center_ac_pair] / float(num_close_centers)\n",
    "    elif model == 'kernel-reg': \n",
    "        assert denom is not None \n",
    "        for center in close_centers:\n",
    "            center_ac_pair = tuple(np.concatenate([center, [float(ac)]]))\n",
    "            distance = norm(center - obs)\n",
    "            coeff = Gaussian_kernel(distance / h) / denom\n",
    "            rst += coeff * Q[center_ac_pair]\n",
    "    return rst \n",
    "\n",
    "def NNR_best_ac(obs, Q, global_close_neighbors_tracker, mode = 'fr-knn', return_ac = False):\n",
    "    if mode == 'fr-knn' or 'kernel-reg':\n",
    "        num_close_centers = 0 \n",
    "        close_centers = []\n",
    "        if tuple(obs) in global_close_neighbors_tracker:\n",
    "            close_centers = global_close_neighbors_tracker[tuple(obs)]\n",
    "        else:\n",
    "            for center in h_net: \n",
    "                distance = norm(center - obs)\n",
    "                if distance < h:\n",
    "                    close_centers.append(center)\n",
    "            global_close_neighbors_tracker[tuple(obs)] = close_centers\n",
    "        num_close_centers = len(close_centers)\n",
    "#         print (\"num_close_centers: {}\".format(num_close_centers))\n",
    "    else:\n",
    "        assert True, 'mode = {} not implemented'.format(mode)\n",
    "        \n",
    "    if mode == 'kernel-reg':\n",
    "        denom = 0.\n",
    "        for center in close_centers:\n",
    "            distance = norm(center - obs)\n",
    "            denom += Gaussian_kernel(distance / h)\n",
    "    else:\n",
    "        denom = None\n",
    "       \n",
    "    max_rst, best_ac = -float('inf'), None\n",
    "    for ac in np.arange(env.action_space.n):\n",
    "        rst = 0.\n",
    "        if mode == 'fr-knn':\n",
    "            for center in close_centers:\n",
    "                center_ac_pair = tuple(np.concatenate([center, [float(ac)]]))\n",
    "                rst += Q[center_ac_pair] / float(num_close_centers)\n",
    "#                 print (\"\\t\\t {}: Q: {}\".format(center_ac_pair, Q[center_ac_pair]))\n",
    "        elif mode == 'kernel-reg': \n",
    "            assert denom is not None \n",
    "            for center in close_centers:\n",
    "                center_ac_pair = tuple(np.concatenate([center, [float(ac)]]))\n",
    "                distance = norm(center - obs)\n",
    "                coeff = Gaussian_kernel(distance / h) / denom\n",
    "                rst += coeff * Q[center_ac_pair]\n",
    "#                 print (\"\\t\\t {}: Q: {}\".format(center_ac_pair, Q[center_ac_pair]))\n",
    "                \n",
    "        if rst > max_rst:\n",
    "            max_rst = rst \n",
    "            best_ac = ac \n",
    "#         print (\"\\t ac: {} {}\".format(ac, rst))\n",
    "#     print (\"picked ac: {}\".format(best_ac))\n",
    "    if return_ac:\n",
    "        return max_rst, best_ac\n",
    "    return max_rst"
   ]
  },
  {
   "cell_type": "code",
   "execution_count": 8,
   "metadata": {},
   "outputs": [],
   "source": [
    "def eval_N_times(mode, h, N = 100):\n",
    "    global_close_neighbors_tracker = {}\n",
    "\n",
    "    results = []\n",
    "    for i in range(100):\n",
    "\n",
    "        obs = env.reset()\n",
    "        rewards = 0 \n",
    "        i = 0\n",
    "        while True:\n",
    "            i += 1\n",
    "            _, ac = NNR_best_ac(obs, Q, global_close_neighbors_tracker, return_ac = True, mode = mode)\n",
    "            obs, reward, done, _ = env.step(ac) # take a random action\n",
    "            rewards += reward \n",
    "            if done: \n",
    "                break\n",
    "        results.append(rewards)\n",
    "    return np.mean(results), np.std(results)"
   ]
  },
  {
   "cell_type": "code",
   "execution_count": 9,
   "metadata": {},
   "outputs": [
    {
     "ename": "KeyboardInterrupt",
     "evalue": "",
     "output_type": "error",
     "traceback": [
      "\u001b[0;31m---------------------------------------------------------------------------\u001b[0m",
      "\u001b[0;31mKeyboardInterrupt\u001b[0m                         Traceback (most recent call last)",
      "\u001b[0;32m<ipython-input-9-f2087f50fe1f>\u001b[0m in \u001b[0;36m<module>\u001b[0;34m\u001b[0m\n\u001b[1;32m     11\u001b[0m \u001b[0mQ\u001b[0m \u001b[0;34m=\u001b[0m \u001b[0;34m{\u001b[0m\u001b[0meval\u001b[0m\u001b[0;34m(\u001b[0m\u001b[0mk\u001b[0m\u001b[0;34m)\u001b[0m\u001b[0;34m:\u001b[0m \u001b[0mQ\u001b[0m\u001b[0;34m[\u001b[0m\u001b[0mk\u001b[0m\u001b[0;34m]\u001b[0m \u001b[0;32mfor\u001b[0m \u001b[0mk\u001b[0m \u001b[0;32min\u001b[0m \u001b[0mQ\u001b[0m\u001b[0;34m}\u001b[0m\u001b[0;34m\u001b[0m\u001b[0;34m\u001b[0m\u001b[0m\n\u001b[1;32m     12\u001b[0m \u001b[0;34m\u001b[0m\u001b[0m\n\u001b[0;32m---> 13\u001b[0;31m \u001b[0meval_N_times\u001b[0m\u001b[0;34m(\u001b[0m\u001b[0mmode\u001b[0m\u001b[0;34m,\u001b[0m \u001b[0mh\u001b[0m\u001b[0;34m,\u001b[0m \u001b[0mN\u001b[0m \u001b[0;34m=\u001b[0m \u001b[0;36m100\u001b[0m\u001b[0;34m)\u001b[0m\u001b[0;34m\u001b[0m\u001b[0;34m\u001b[0m\u001b[0m\n\u001b[0m",
      "\u001b[0;32m<ipython-input-8-ac995d178346>\u001b[0m in \u001b[0;36meval_N_times\u001b[0;34m(mode, h, N)\u001b[0m\n\u001b[1;32m     11\u001b[0m             \u001b[0mi\u001b[0m \u001b[0;34m+=\u001b[0m \u001b[0;36m1\u001b[0m\u001b[0;34m\u001b[0m\u001b[0;34m\u001b[0m\u001b[0m\n\u001b[1;32m     12\u001b[0m             \u001b[0m_\u001b[0m\u001b[0;34m,\u001b[0m \u001b[0mac\u001b[0m \u001b[0;34m=\u001b[0m \u001b[0mNNR_best_ac\u001b[0m\u001b[0;34m(\u001b[0m\u001b[0mobs\u001b[0m\u001b[0;34m,\u001b[0m \u001b[0mQ\u001b[0m\u001b[0;34m,\u001b[0m \u001b[0mglobal_close_neighbors_tracker\u001b[0m\u001b[0;34m,\u001b[0m \u001b[0mreturn_ac\u001b[0m \u001b[0;34m=\u001b[0m \u001b[0;32mTrue\u001b[0m\u001b[0;34m,\u001b[0m \u001b[0mmode\u001b[0m \u001b[0;34m=\u001b[0m \u001b[0mmode\u001b[0m\u001b[0;34m)\u001b[0m\u001b[0;34m\u001b[0m\u001b[0;34m\u001b[0m\u001b[0m\n\u001b[0;32m---> 13\u001b[0;31m             \u001b[0mobs\u001b[0m\u001b[0;34m,\u001b[0m \u001b[0mreward\u001b[0m\u001b[0;34m,\u001b[0m \u001b[0mdone\u001b[0m\u001b[0;34m,\u001b[0m \u001b[0m_\u001b[0m \u001b[0;34m=\u001b[0m \u001b[0menv\u001b[0m\u001b[0;34m.\u001b[0m\u001b[0mstep\u001b[0m\u001b[0;34m(\u001b[0m\u001b[0mac\u001b[0m\u001b[0;34m)\u001b[0m \u001b[0;31m# take a random action\u001b[0m\u001b[0;34m\u001b[0m\u001b[0;34m\u001b[0m\u001b[0m\n\u001b[0m\u001b[1;32m     14\u001b[0m             \u001b[0mrewards\u001b[0m \u001b[0;34m+=\u001b[0m \u001b[0mreward\u001b[0m\u001b[0;34m\u001b[0m\u001b[0;34m\u001b[0m\u001b[0m\n\u001b[1;32m     15\u001b[0m             \u001b[0;32mif\u001b[0m \u001b[0mdone\u001b[0m\u001b[0;34m:\u001b[0m\u001b[0;34m\u001b[0m\u001b[0;34m\u001b[0m\u001b[0m\n",
      "\u001b[0;32m/usr/local/lib/python3.7/site-packages/gym/wrappers/time_limit.py\u001b[0m in \u001b[0;36mstep\u001b[0;34m(self, action)\u001b[0m\n\u001b[1;32m     14\u001b[0m     \u001b[0;32mdef\u001b[0m \u001b[0mstep\u001b[0m\u001b[0;34m(\u001b[0m\u001b[0mself\u001b[0m\u001b[0;34m,\u001b[0m \u001b[0maction\u001b[0m\u001b[0;34m)\u001b[0m\u001b[0;34m:\u001b[0m\u001b[0;34m\u001b[0m\u001b[0;34m\u001b[0m\u001b[0m\n\u001b[1;32m     15\u001b[0m         \u001b[0;32massert\u001b[0m \u001b[0mself\u001b[0m\u001b[0;34m.\u001b[0m\u001b[0m_elapsed_steps\u001b[0m \u001b[0;32mis\u001b[0m \u001b[0;32mnot\u001b[0m \u001b[0;32mNone\u001b[0m\u001b[0;34m,\u001b[0m \u001b[0;34m\"Cannot call env.step() before calling reset()\"\u001b[0m\u001b[0;34m\u001b[0m\u001b[0;34m\u001b[0m\u001b[0m\n\u001b[0;32m---> 16\u001b[0;31m         \u001b[0mobservation\u001b[0m\u001b[0;34m,\u001b[0m \u001b[0mreward\u001b[0m\u001b[0;34m,\u001b[0m \u001b[0mdone\u001b[0m\u001b[0;34m,\u001b[0m \u001b[0minfo\u001b[0m \u001b[0;34m=\u001b[0m \u001b[0mself\u001b[0m\u001b[0;34m.\u001b[0m\u001b[0menv\u001b[0m\u001b[0;34m.\u001b[0m\u001b[0mstep\u001b[0m\u001b[0;34m(\u001b[0m\u001b[0maction\u001b[0m\u001b[0;34m)\u001b[0m\u001b[0;34m\u001b[0m\u001b[0;34m\u001b[0m\u001b[0m\n\u001b[0m\u001b[1;32m     17\u001b[0m         \u001b[0mself\u001b[0m\u001b[0;34m.\u001b[0m\u001b[0m_elapsed_steps\u001b[0m \u001b[0;34m+=\u001b[0m \u001b[0;36m1\u001b[0m\u001b[0;34m\u001b[0m\u001b[0;34m\u001b[0m\u001b[0m\n\u001b[1;32m     18\u001b[0m         \u001b[0;32mif\u001b[0m \u001b[0mself\u001b[0m\u001b[0;34m.\u001b[0m\u001b[0m_elapsed_steps\u001b[0m \u001b[0;34m>=\u001b[0m \u001b[0mself\u001b[0m\u001b[0;34m.\u001b[0m\u001b[0m_max_episode_steps\u001b[0m\u001b[0;34m:\u001b[0m\u001b[0;34m\u001b[0m\u001b[0;34m\u001b[0m\u001b[0m\n",
      "\u001b[0;32m/usr/local/lib/python3.7/site-packages/gym/envs/classic_control/mountain_car.py\u001b[0m in \u001b[0;36mstep\u001b[0;34m(self, action)\u001b[0m\n\u001b[1;32m     46\u001b[0m \u001b[0;34m\u001b[0m\u001b[0m\n\u001b[1;32m     47\u001b[0m         \u001b[0mposition\u001b[0m\u001b[0;34m,\u001b[0m \u001b[0mvelocity\u001b[0m \u001b[0;34m=\u001b[0m \u001b[0mself\u001b[0m\u001b[0;34m.\u001b[0m\u001b[0mstate\u001b[0m\u001b[0;34m\u001b[0m\u001b[0;34m\u001b[0m\u001b[0m\n\u001b[0;32m---> 48\u001b[0;31m         \u001b[0mvelocity\u001b[0m \u001b[0;34m+=\u001b[0m \u001b[0;34m(\u001b[0m\u001b[0maction\u001b[0m\u001b[0;34m-\u001b[0m\u001b[0;36m1\u001b[0m\u001b[0;34m)\u001b[0m\u001b[0;34m*\u001b[0m\u001b[0mself\u001b[0m\u001b[0;34m.\u001b[0m\u001b[0mforce\u001b[0m \u001b[0;34m+\u001b[0m \u001b[0mmath\u001b[0m\u001b[0;34m.\u001b[0m\u001b[0mcos\u001b[0m\u001b[0;34m(\u001b[0m\u001b[0;36m3\u001b[0m\u001b[0;34m*\u001b[0m\u001b[0mposition\u001b[0m\u001b[0;34m)\u001b[0m\u001b[0;34m*\u001b[0m\u001b[0;34m(\u001b[0m\u001b[0;34m-\u001b[0m\u001b[0mself\u001b[0m\u001b[0;34m.\u001b[0m\u001b[0mgravity\u001b[0m\u001b[0;34m)\u001b[0m\u001b[0;34m\u001b[0m\u001b[0;34m\u001b[0m\u001b[0m\n\u001b[0m\u001b[1;32m     49\u001b[0m         \u001b[0mvelocity\u001b[0m \u001b[0;34m=\u001b[0m \u001b[0mnp\u001b[0m\u001b[0;34m.\u001b[0m\u001b[0mclip\u001b[0m\u001b[0;34m(\u001b[0m\u001b[0mvelocity\u001b[0m\u001b[0;34m,\u001b[0m \u001b[0;34m-\u001b[0m\u001b[0mself\u001b[0m\u001b[0;34m.\u001b[0m\u001b[0mmax_speed\u001b[0m\u001b[0;34m,\u001b[0m \u001b[0mself\u001b[0m\u001b[0;34m.\u001b[0m\u001b[0mmax_speed\u001b[0m\u001b[0;34m)\u001b[0m\u001b[0;34m\u001b[0m\u001b[0;34m\u001b[0m\u001b[0m\n\u001b[1;32m     50\u001b[0m         \u001b[0mposition\u001b[0m \u001b[0;34m+=\u001b[0m \u001b[0mvelocity\u001b[0m\u001b[0;34m\u001b[0m\u001b[0;34m\u001b[0m\u001b[0m\n",
      "\u001b[0;31mKeyboardInterrupt\u001b[0m: "
     ]
    }
   ],
   "source": [
    "mode = 'kernel-reg'\n",
    "# mode = 'fr-knn'\n",
    "h = 0.15\n",
    "\n",
    "f = open(\"./training_kernel_reg_h_15e-2_20_20_modified_rw/k1_Q_values.txt\")\n",
    "\n",
    "Q = json.load(f)\n",
    "Q = {eval(k): Q[k] for k in Q} \n",
    "\n",
    "eval_N_times(mode, h, N = 100)"
   ]
  },
  {
   "cell_type": "code",
   "execution_count": 14,
   "metadata": {},
   "outputs": [
    {
     "name": "stdout",
     "output_type": "stream",
     "text": [
      "k: 0, mean: -200.0, std: 0.0\n",
      "k: 1, mean: -146.15, std: 32.47318124237292\n",
      "k: 2, mean: -147.43, std: 34.528323156504435\n",
      "k: 3, mean: -147.24, std: 32.80796244816188\n",
      "k: 4, mean: -150.74, std: 27.58572819412241\n",
      "k: 5, mean: -141.85, std: 33.713610011388575\n",
      "k: 6, mean: -149.77, std: 34.46617327177475\n",
      "k: 7, mean: -155.07, std: 32.82019347901532\n",
      "k: 8, mean: -153.0, std: 37.01945434497921\n",
      "k: 9, mean: -156.29, std: 32.921207450517365\n",
      "k: 10, mean: -152.65, std: 34.10054984893939\n",
      "k: 11, mean: -149.78, std: 32.12587119441277\n",
      "k: 12, mean: -149.86, std: 35.259897901156776\n",
      "k: 13, mean: -162.0, std: 25.649171526581515\n",
      "k: 14, mean: -153.22, std: 30.502321223146282\n"
     ]
    }
   ],
   "source": [
    "mode = 'kernel-reg'\n",
    "# mode = 'fr-knn'\n",
    "h = 0.15\n",
    "N = 100\n",
    "\n",
    "exp_name = \"./training_kernel_reg_h_15e-2_20_20_modified_rw\"\n",
    "\n",
    "means = []\n",
    "stds = []\n",
    "\n",
    "for k in range(15):\n",
    "    filename = os.path.join(exp_name, \"k{}_Q_values.txt\".format(k))\n",
    "    f = open(filename)\n",
    "    Q = json.load(f)\n",
    "    Q = {eval(k): Q[k] for k in Q}\n",
    "    mean, std = eval_N_times(mode, h, N)\n",
    "    print (\"k: {}, mean: {}, std: {}\".format(k, mean, std))\n",
    "    means.append(mean)\n",
    "    stds.append(std)"
   ]
  },
  {
   "cell_type": "code",
   "execution_count": null,
   "metadata": {},
   "outputs": [],
   "source": []
  }
 ],
 "metadata": {
  "kernelspec": {
   "display_name": "Python 3",
   "language": "python",
   "name": "python3"
  },
  "language_info": {
   "codemirror_mode": {
    "name": "ipython",
    "version": 3
   },
   "file_extension": ".py",
   "mimetype": "text/x-python",
   "name": "python",
   "nbconvert_exporter": "python",
   "pygments_lexer": "ipython3",
   "version": "3.7.7"
  }
 },
 "nbformat": 4,
 "nbformat_minor": 2
}
